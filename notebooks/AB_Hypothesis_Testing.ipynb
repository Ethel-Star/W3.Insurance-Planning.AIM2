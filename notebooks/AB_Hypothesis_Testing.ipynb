{
 "cells": [
  {
   "cell_type": "markdown",
   "metadata": {},
   "source": [
    "### 10 Academy: Artificial Intelligence Mastery\n",
    "#### Week 3 Challenge\n",
    "##### A/B_Hypothesis_Testing\n",
    "Ethel Cherotaw"
   ]
  },
  {
   "cell_type": "markdown",
   "metadata": {},
   "source": [
    "A/B Hypothesis Testing is a method used to compare two groups to see if there is a statistically significant difference between them"
   ]
  },
  {
   "cell_type": "code",
   "execution_count": 1,
   "metadata": {},
   "outputs": [],
   "source": [
    "import sys\n",
    "import numpy as np\n",
    "import os\n",
    "import pandas as pd\n",
    "from scipy.stats import ttest_ind, chi2_contingency\n",
    "from scipy import stats\n",
    "\n",
    "data_dir=data_dir = r'E:\\2017.Study\\Tenx\\Week-3\\Data\\data'\n",
    "src_dir = r'E:\\2017.Study\\Tenx\\Week-3\\Insurance\\W3.Insurance-Planning.AIM2\\src'\n",
    "\n",
    "\n",
    "sys.path.append(src_dir)\n",
    "sys.path.append(data_dir)\n",
    "from AB_utils import InsuranceDataUtils"
   ]
  },
  {
   "cell_type": "markdown",
   "metadata": {},
   "source": [
    "#### Loading Data for testing "
   ]
  },
  {
   "cell_type": "code",
   "execution_count": 2,
   "metadata": {},
   "outputs": [
    {
     "data": {
      "text/html": [
       "<div>\n",
       "<style scoped>\n",
       "    .dataframe tbody tr th:only-of-type {\n",
       "        vertical-align: middle;\n",
       "    }\n",
       "\n",
       "    .dataframe tbody tr th {\n",
       "        vertical-align: top;\n",
       "    }\n",
       "\n",
       "    .dataframe thead th {\n",
       "        text-align: right;\n",
       "    }\n",
       "</style>\n",
       "<table border=\"1\" class=\"dataframe\">\n",
       "  <thead>\n",
       "    <tr style=\"text-align: right;\">\n",
       "      <th></th>\n",
       "      <th>UnderwrittenCoverID</th>\n",
       "      <th>PolicyID</th>\n",
       "      <th>TransactionMonth</th>\n",
       "      <th>IsVATRegistered</th>\n",
       "      <th>Citizenship</th>\n",
       "      <th>LegalType</th>\n",
       "      <th>Title</th>\n",
       "      <th>Language</th>\n",
       "      <th>Bank</th>\n",
       "      <th>AccountType</th>\n",
       "      <th>...</th>\n",
       "      <th>ExcessSelected</th>\n",
       "      <th>CoverCategory</th>\n",
       "      <th>CoverType</th>\n",
       "      <th>CoverGroup</th>\n",
       "      <th>Section</th>\n",
       "      <th>Product</th>\n",
       "      <th>StatutoryClass</th>\n",
       "      <th>StatutoryRiskType</th>\n",
       "      <th>TotalPremium</th>\n",
       "      <th>TotalClaims</th>\n",
       "    </tr>\n",
       "  </thead>\n",
       "  <tbody>\n",
       "    <tr>\n",
       "      <th>0</th>\n",
       "      <td>145249</td>\n",
       "      <td>12827</td>\n",
       "      <td>2015-03-01 00:00:00</td>\n",
       "      <td>True</td>\n",
       "      <td></td>\n",
       "      <td>Close Corporation</td>\n",
       "      <td>Mr</td>\n",
       "      <td>English</td>\n",
       "      <td>First National Bank</td>\n",
       "      <td>Current account</td>\n",
       "      <td>...</td>\n",
       "      <td>Mobility - Windscreen</td>\n",
       "      <td>Windscreen</td>\n",
       "      <td>Windscreen</td>\n",
       "      <td>Comprehensive - Taxi</td>\n",
       "      <td>Motor Comprehensive</td>\n",
       "      <td>Mobility Metered Taxis: Monthly</td>\n",
       "      <td>Commercial</td>\n",
       "      <td>IFRS Constant</td>\n",
       "      <td>21.929825</td>\n",
       "      <td>0.0</td>\n",
       "    </tr>\n",
       "    <tr>\n",
       "      <th>1</th>\n",
       "      <td>145249</td>\n",
       "      <td>12827</td>\n",
       "      <td>2015-05-01 00:00:00</td>\n",
       "      <td>True</td>\n",
       "      <td></td>\n",
       "      <td>Close Corporation</td>\n",
       "      <td>Mr</td>\n",
       "      <td>English</td>\n",
       "      <td>First National Bank</td>\n",
       "      <td>Current account</td>\n",
       "      <td>...</td>\n",
       "      <td>Mobility - Windscreen</td>\n",
       "      <td>Windscreen</td>\n",
       "      <td>Windscreen</td>\n",
       "      <td>Comprehensive - Taxi</td>\n",
       "      <td>Motor Comprehensive</td>\n",
       "      <td>Mobility Metered Taxis: Monthly</td>\n",
       "      <td>Commercial</td>\n",
       "      <td>IFRS Constant</td>\n",
       "      <td>21.929825</td>\n",
       "      <td>0.0</td>\n",
       "    </tr>\n",
       "    <tr>\n",
       "      <th>2</th>\n",
       "      <td>145249</td>\n",
       "      <td>12827</td>\n",
       "      <td>2015-07-01 00:00:00</td>\n",
       "      <td>True</td>\n",
       "      <td></td>\n",
       "      <td>Close Corporation</td>\n",
       "      <td>Mr</td>\n",
       "      <td>English</td>\n",
       "      <td>First National Bank</td>\n",
       "      <td>Current account</td>\n",
       "      <td>...</td>\n",
       "      <td>Mobility - Windscreen</td>\n",
       "      <td>Windscreen</td>\n",
       "      <td>Windscreen</td>\n",
       "      <td>Comprehensive - Taxi</td>\n",
       "      <td>Motor Comprehensive</td>\n",
       "      <td>Mobility Metered Taxis: Monthly</td>\n",
       "      <td>Commercial</td>\n",
       "      <td>IFRS Constant</td>\n",
       "      <td>0.000000</td>\n",
       "      <td>0.0</td>\n",
       "    </tr>\n",
       "    <tr>\n",
       "      <th>3</th>\n",
       "      <td>145255</td>\n",
       "      <td>12827</td>\n",
       "      <td>2015-05-01 00:00:00</td>\n",
       "      <td>True</td>\n",
       "      <td></td>\n",
       "      <td>Close Corporation</td>\n",
       "      <td>Mr</td>\n",
       "      <td>English</td>\n",
       "      <td>First National Bank</td>\n",
       "      <td>Current account</td>\n",
       "      <td>...</td>\n",
       "      <td>Mobility - Metered Taxis - R2000</td>\n",
       "      <td>Own damage</td>\n",
       "      <td>Own Damage</td>\n",
       "      <td>Comprehensive - Taxi</td>\n",
       "      <td>Motor Comprehensive</td>\n",
       "      <td>Mobility Metered Taxis: Monthly</td>\n",
       "      <td>Commercial</td>\n",
       "      <td>IFRS Constant</td>\n",
       "      <td>512.848070</td>\n",
       "      <td>0.0</td>\n",
       "    </tr>\n",
       "    <tr>\n",
       "      <th>4</th>\n",
       "      <td>145255</td>\n",
       "      <td>12827</td>\n",
       "      <td>2015-07-01 00:00:00</td>\n",
       "      <td>True</td>\n",
       "      <td></td>\n",
       "      <td>Close Corporation</td>\n",
       "      <td>Mr</td>\n",
       "      <td>English</td>\n",
       "      <td>First National Bank</td>\n",
       "      <td>Current account</td>\n",
       "      <td>...</td>\n",
       "      <td>Mobility - Metered Taxis - R2000</td>\n",
       "      <td>Own damage</td>\n",
       "      <td>Own Damage</td>\n",
       "      <td>Comprehensive - Taxi</td>\n",
       "      <td>Motor Comprehensive</td>\n",
       "      <td>Mobility Metered Taxis: Monthly</td>\n",
       "      <td>Commercial</td>\n",
       "      <td>IFRS Constant</td>\n",
       "      <td>0.000000</td>\n",
       "      <td>0.0</td>\n",
       "    </tr>\n",
       "  </tbody>\n",
       "</table>\n",
       "<p>5 rows × 46 columns</p>\n",
       "</div>"
      ],
      "text/plain": [
       "   UnderwrittenCoverID  PolicyID     TransactionMonth  IsVATRegistered  \\\n",
       "0               145249     12827  2015-03-01 00:00:00             True   \n",
       "1               145249     12827  2015-05-01 00:00:00             True   \n",
       "2               145249     12827  2015-07-01 00:00:00             True   \n",
       "3               145255     12827  2015-05-01 00:00:00             True   \n",
       "4               145255     12827  2015-07-01 00:00:00             True   \n",
       "\n",
       "  Citizenship          LegalType Title Language                 Bank  \\\n",
       "0              Close Corporation    Mr  English  First National Bank   \n",
       "1              Close Corporation    Mr  English  First National Bank   \n",
       "2              Close Corporation    Mr  English  First National Bank   \n",
       "3              Close Corporation    Mr  English  First National Bank   \n",
       "4              Close Corporation    Mr  English  First National Bank   \n",
       "\n",
       "       AccountType  ...                    ExcessSelected CoverCategory  \\\n",
       "0  Current account  ...             Mobility - Windscreen    Windscreen   \n",
       "1  Current account  ...             Mobility - Windscreen    Windscreen   \n",
       "2  Current account  ...             Mobility - Windscreen    Windscreen   \n",
       "3  Current account  ...  Mobility - Metered Taxis - R2000    Own damage   \n",
       "4  Current account  ...  Mobility - Metered Taxis - R2000    Own damage   \n",
       "\n",
       "    CoverType            CoverGroup              Section  \\\n",
       "0  Windscreen  Comprehensive - Taxi  Motor Comprehensive   \n",
       "1  Windscreen  Comprehensive - Taxi  Motor Comprehensive   \n",
       "2  Windscreen  Comprehensive - Taxi  Motor Comprehensive   \n",
       "3  Own Damage  Comprehensive - Taxi  Motor Comprehensive   \n",
       "4  Own Damage  Comprehensive - Taxi  Motor Comprehensive   \n",
       "\n",
       "                           Product StatutoryClass StatutoryRiskType  \\\n",
       "0  Mobility Metered Taxis: Monthly     Commercial     IFRS Constant   \n",
       "1  Mobility Metered Taxis: Monthly     Commercial     IFRS Constant   \n",
       "2  Mobility Metered Taxis: Monthly     Commercial     IFRS Constant   \n",
       "3  Mobility Metered Taxis: Monthly     Commercial     IFRS Constant   \n",
       "4  Mobility Metered Taxis: Monthly     Commercial     IFRS Constant   \n",
       "\n",
       "   TotalPremium TotalClaims  \n",
       "0     21.929825         0.0  \n",
       "1     21.929825         0.0  \n",
       "2      0.000000         0.0  \n",
       "3    512.848070         0.0  \n",
       "4      0.000000         0.0  \n",
       "\n",
       "[5 rows x 46 columns]"
      ]
     },
     "execution_count": 2,
     "metadata": {},
     "output_type": "execute_result"
    }
   ],
   "source": [
    "csv_file_path = r'E:\\2017.Study\\Tenx\\Week-3\\Data\\data\\cleaned_data.csv'\n",
    "df = pd.read_csv(csv_file_path, low_memory=False)\n",
    "df.head()\n"
   ]
  },
  {
   "cell_type": "markdown",
   "metadata": {},
   "source": [
    "##### Checking list of province"
   ]
  },
  {
   "cell_type": "code",
   "execution_count": 3,
   "metadata": {},
   "outputs": [
    {
     "data": {
      "text/plain": [
       "array(['Gauteng', 'KwaZulu-Natal', 'Mpumalanga', 'Eastern Cape',\n",
       "       'Western Cape', 'Limpopo', 'North West', 'Free State',\n",
       "       'Northern Cape'], dtype=object)"
      ]
     },
     "execution_count": 3,
     "metadata": {},
     "output_type": "execute_result"
    }
   ],
   "source": [
    "provinces = df['Province'].unique()\n",
    "provinces"
   ]
  },
  {
   "cell_type": "markdown",
   "metadata": {},
   "source": [
    "##### A/B Hypothesis Testing \n",
    "\n",
    "Let's break down the dataset by merging the relevant data columns for A/B Hypothesis Testing analysis and then proceed through each step in detail.Since We will analyze risk and profit in the insurance dataset with the following metrics:\n",
    "\n",
    "1. Risk Across Provinces: Assess average and total claims by Province to evaluate risk differences.\n",
    "2. Risk by Zip Code: Compare average and total claims by ZipCode to explore risk variations.\n",
    "3. Profit Margin by Zip Code: Calculate profit margins (Total Premium - Total Claims) by ZipCode to compare profitability.\n",
    "4. Risk by Gender: Analyze total claims by Gender to identify risk differences between male and female policyholders. \n",
    "Merging those columns will be best for analysis \n",
    "    \n"
   ]
  },
  {
   "cell_type": "code",
   "execution_count": 4,
   "metadata": {},
   "outputs": [
    {
     "data": {
      "text/html": [
       "<div>\n",
       "<style scoped>\n",
       "    .dataframe tbody tr th:only-of-type {\n",
       "        vertical-align: middle;\n",
       "    }\n",
       "\n",
       "    .dataframe tbody tr th {\n",
       "        vertical-align: top;\n",
       "    }\n",
       "\n",
       "    .dataframe thead th {\n",
       "        text-align: right;\n",
       "    }\n",
       "</style>\n",
       "<table border=\"1\" class=\"dataframe\">\n",
       "  <thead>\n",
       "    <tr style=\"text-align: right;\">\n",
       "      <th></th>\n",
       "      <th>Province</th>\n",
       "      <th>PostalCode</th>\n",
       "      <th>Gender</th>\n",
       "      <th>TotalPremium</th>\n",
       "      <th>TotalClaims</th>\n",
       "      <th>SumInsured</th>\n",
       "    </tr>\n",
       "  </thead>\n",
       "  <tbody>\n",
       "    <tr>\n",
       "      <th>0</th>\n",
       "      <td>Gauteng</td>\n",
       "      <td>1459</td>\n",
       "      <td>Not specified</td>\n",
       "      <td>21.929825</td>\n",
       "      <td>0.0</td>\n",
       "      <td>0.01</td>\n",
       "    </tr>\n",
       "    <tr>\n",
       "      <th>1</th>\n",
       "      <td>Gauteng</td>\n",
       "      <td>1459</td>\n",
       "      <td>Not specified</td>\n",
       "      <td>21.929825</td>\n",
       "      <td>0.0</td>\n",
       "      <td>0.01</td>\n",
       "    </tr>\n",
       "    <tr>\n",
       "      <th>2</th>\n",
       "      <td>Gauteng</td>\n",
       "      <td>1459</td>\n",
       "      <td>Not specified</td>\n",
       "      <td>0.000000</td>\n",
       "      <td>0.0</td>\n",
       "      <td>0.01</td>\n",
       "    </tr>\n",
       "    <tr>\n",
       "      <th>3</th>\n",
       "      <td>Gauteng</td>\n",
       "      <td>1459</td>\n",
       "      <td>Not specified</td>\n",
       "      <td>512.848070</td>\n",
       "      <td>0.0</td>\n",
       "      <td>119300.00</td>\n",
       "    </tr>\n",
       "    <tr>\n",
       "      <th>4</th>\n",
       "      <td>Gauteng</td>\n",
       "      <td>1459</td>\n",
       "      <td>Not specified</td>\n",
       "      <td>0.000000</td>\n",
       "      <td>0.0</td>\n",
       "      <td>119300.00</td>\n",
       "    </tr>\n",
       "  </tbody>\n",
       "</table>\n",
       "</div>"
      ],
      "text/plain": [
       "  Province  PostalCode         Gender  TotalPremium  TotalClaims  SumInsured\n",
       "0  Gauteng        1459  Not specified     21.929825          0.0        0.01\n",
       "1  Gauteng        1459  Not specified     21.929825          0.0        0.01\n",
       "2  Gauteng        1459  Not specified      0.000000          0.0        0.01\n",
       "3  Gauteng        1459  Not specified    512.848070          0.0   119300.00\n",
       "4  Gauteng        1459  Not specified      0.000000          0.0   119300.00"
      ]
     },
     "execution_count": 4,
     "metadata": {},
     "output_type": "execute_result"
    }
   ],
   "source": [
    "# Lets use 'ZipCode' with 'PostalCode' because we dont have  a zip code columns \n",
    "df_subset = df[['Province', 'PostalCode', 'Gender', 'TotalPremium', 'TotalClaims','SumInsured']]\n",
    "\n",
    "# Display the first few rows to ensure the data is correctly merged\n",
    "df_subset.head()\n"
   ]
  },
  {
   "cell_type": "markdown",
   "metadata": {},
   "source": [
    "#### 1. Risk Differences Across Provinces: \n",
    "##### Metrics Selection : \n",
    "I used Total Claims because our null hypothesis was focused on identifying risk differences across provinces. Total Claims directly measures the amount of risk associated with insurance policies, making it the most appropriate metric for quantifying and comparing risk between regions. This metric aligns with our goal of understanding how the financial impact of claims varies across provinces. In contrast, Total Premium measures revenue, not risk, as it reflects income rather than the actual cost of claims. Margin, representing the difference between Total Premium and Total Claims, indicates profitability but does not directly measure risk; it can be affected by factors such as pricing strategies or operational costs. Therefore, Total Claims is the most relevant metric for assessing risk differences, as it directly reflects the financial impact of claims and provides insights into the frequency and severity of claims across different provinces. Analyzing Total Claims helps identify significant risk variations, whereas Total Premium offers insights into revenue and risk-related pricing.\n",
    "\n",
    "For:\n",
    "##### Data Segmentation  \n",
    "I used Stratified Selection by categorizing provinces into two groups based on the average Total Claims:\n",
    "\n",
    "High Risk: Provinces with above-average Total Claims.\n",
    "Low Risk: Provinces with below-average Total Claims.\n",
    "##### Statistical Testing\n",
    "I used t-test because for comparing means (total claim) t-test is appropriate "
   ]
  },
  {
   "cell_type": "code",
   "execution_count": 5,
   "metadata": {},
   "outputs": [
    {
     "name": "stdout",
     "output_type": "stream",
     "text": [
      "High Risk Provinces: ['Gauteng', 'KwaZulu-Natal', 'Western Cape']\n",
      "Low Risk Provinces: ['Eastern Cape', 'Free State', 'Limpopo', 'Mpumalanga', 'North West', 'Northern Cape']\n",
      "T-statistic: 7.1185\n",
      "P-value: 0.0000\n",
      "Interpretation: Reject the null hypothesis: There are significant differences in risk.\n"
     ]
    }
   ],
   "source": [
    "    # Create instance of DataUtil\n",
    "data_util = InsuranceDataUtils(df_subset)\n",
    "    \n",
    "    # Categorize provinces\n",
    "high_risk_provinces, low_risk_provinces = data_util.categorize_provinces('TotalClaims')\n",
    "print(f\"High Risk Provinces: {high_risk_provinces}\")\n",
    "print(f\"Low Risk Provinces: {low_risk_provinces}\")\n",
    "    \n",
    "    # Perform the test\n",
    "t_stat, p_val, interpretation = data_util.test_risk_differences('TotalClaims', high_risk_provinces, low_risk_provinces)\n",
    "    \n",
    "    # Print summary\n",
    "data_util.print_summary(t_stat, p_val, interpretation)"
   ]
  },
  {
   "cell_type": "markdown",
   "metadata": {},
   "source": [
    "Answer: Null Hpo Rejected and \n",
    "      : There are significant differences in risk."
   ]
  },
  {
   "cell_type": "markdown",
   "metadata": {},
   "source": [
    "#### 2. There are no risk differences between zip codes \n",
    "Metric Selection : Again I use Total Claims as a metric for evaluating risk differences between zip codes(Postcode).\n",
    "because:-Total Claims represent the actual financial impact due to claims. It's a direct measure of risk, which aligns with the objective of understanding risk differences. Total Premium and Margin might not directly reflect the risk but rather revenue or profit.\n",
    "\n",
    "#### Data Segmentation  \n",
    "\n",
    "Using risk catagories using percentile Method: by dividing the postal codes based on percentiles (e.g., top 25% as high-risk)."
   ]
  },
  {
   "cell_type": "code",
   "execution_count": 6,
   "metadata": {},
   "outputs": [
    {
     "name": "stdout",
     "output_type": "stream",
     "text": [
      "Category Claims:\n",
      "    PostalCodeCategory    TotalClaims\n",
      "0                    1  307583.342105\n",
      "1                    2   61885.298246\n",
      "2                    4       0.000000\n",
      "3                    5   82951.526316\n",
      "4                    6    8628.596491\n",
      "..                 ...            ...\n",
      "847               9830       0.000000\n",
      "848               9868       0.000000\n",
      "849               9869    2236.842105\n",
      "850               9870       0.000000\n",
      "851              Other       0.000000\n",
      "\n",
      "[852 rows x 2 columns]\n",
      "Chi-Square Test Results:\n",
      "{'Chi-Square Statistic': 1214174.4063742852, 'P-Value': 1.0, 'Degrees of Freedom': 1373514, 'Expected Frequencies': array([[5.34047663e-03, 5.34047663e-03, 5.34047663e-03, ...,\n",
      "        5.34047663e-03, 5.34047663e-03, 5.34047663e-03],\n",
      "       [1.48785419e-03, 1.48785419e-03, 1.48785419e-03, ...,\n",
      "        1.48785419e-03, 1.48785419e-03, 1.48785419e-03],\n",
      "       [7.69924547e-05, 7.69924547e-05, 7.69924547e-05, ...,\n",
      "        7.69924547e-05, 7.69924547e-05, 7.69924547e-05],\n",
      "       ...,\n",
      "       [1.41486134e-03, 1.41486134e-03, 1.41486134e-03, ...,\n",
      "        1.41486134e-03, 1.41486134e-03, 1.41486134e-03],\n",
      "       [2.19978442e-04, 2.19978442e-04, 2.19978442e-04, ...,\n",
      "        2.19978442e-04, 2.19978442e-04, 2.19978442e-04],\n",
      "       [9.69904949e-05, 9.69904949e-05, 9.69904949e-05, ...,\n",
      "        9.69904949e-05, 9.69904949e-05, 9.69904949e-05]])}\n",
      "Interpretation: Fail to reject the null hypothesis: No significant differences in risk based on postal codes.\n"
     ]
    }
   ],
   "source": [
    "# Example usage\n",
    "# Assuming df is your DataFrame\n",
    "analysis = InsuranceDataUtils(df_subset)\n",
    "analysis.analyze(threshold=10)\n"
   ]
  },
  {
   "cell_type": "markdown",
   "metadata": {},
   "source": [
    "The Chi-Square statistic was 1,214,174.41, indicating a noticeable deviation between observed and expected claim frequencies. However, the p-value was 1.0, suggesting that the observed differences could be entirely due to random chance. Since the p-value is much greater than the common significance threshold of 0.05, we fail to reject the null hypothesis, indicating no statistically significant relationship between postal code categories and insurance claims. The degrees of freedom were 1,373,514, reflecting the dataset's complexity with numerous postal codes and claim amounts. Expected frequencies were very small, hinting at a highly uneven distribution of claims across postal codes. The results suggest that differences in total claims are likely due to random variation rather than an association with postal codes. This outcome may be attributed to the low number of claims per category and the high number of postal code categories, which can weaken the test's ability to detect significant differences.\n",
    "\n",
    "The Chi-Square test shows that there are no significant differences in insurance claims based on postal codes. The lack of statistical significance suggests that postal codes, as categorized here, do not explain the variation in claim amounts, and other factors may better account for insurance risk.\n",
    "\n",
    "This means you should explore additional features beyond postal codes for understanding claim patterns, such as demographic or behavioral data, or perhaps aggregate postal codes differently to gain more insight.\n"
   ]
  },
  {
   "cell_type": "markdown",
   "metadata": {},
   "source": [
    "3. There are no significant margin (profit) difference between zip codes \n"
   ]
  },
  {
   "cell_type": "code",
   "execution_count": 7,
   "metadata": {},
   "outputs": [
    {
     "name": "stdout",
     "output_type": "stream",
     "text": [
      "Category Margins: \n",
      "    PostalCodeCategory      Margin\n",
      "0                    1   -6.468455\n",
      "1                    2   -0.687882\n",
      "2                    4  113.947737\n",
      "3                    5 -145.725189\n",
      "4                    6   30.980985\n",
      "..                 ...         ...\n",
      "847               9830  131.760895\n",
      "848               9868  116.042377\n",
      "849               9869   43.193631\n",
      "850               9870   80.469292\n",
      "851              Other   70.769225\n",
      "\n",
      "[852 rows x 2 columns]\n",
      "ANOVA Test Results:\n",
      "{'F-Statistic': 0.9075757372814504, 'P-Value': 0.9745048985380578}\n",
      "Interpretation: Fail to reject the null hypothesis: No significant differences in margin between postal codes.\n"
     ]
    }
   ],
   "source": [
    "insurance = InsuranceDataUtils(df_subset)\n",
    "insurance.analyze_margins_by_postal_code(threshold=10)"
   ]
  },
  {
   "cell_type": "markdown",
   "metadata": {},
   "source": [
    "The F-statistic measures the variance between categories relative to the variance within each category. In this case, the F-statistic is 0.9076, which is relatively low. The p-value is 0.9745, significantly higher than the typical alpha level of 0.05. This high p-value suggests that the observed differences in margins are likely due to random chance rather than actual differences between postal code categories. Therefore, we fail to reject the null hypothesis, indicating no statistically significant difference in margins across postal codes. The variations in average margins are likely random and do not reflect meaningful differences in profit margins."
   ]
  },
  {
   "cell_type": "markdown",
   "metadata": {},
   "source": [
    "#### 4. There are not significant risk difference between Women and Men\n",
    "Metric Selection: Total Claim \n",
    "\n",
    "Data Segmentation:  calculating the mean of TotalClaims for each gender.\n",
    "\n",
    "Control Group: Male\n",
    "Testing Group: Female\n",
    "\n",
    "\n",
    "Statistical Testing: t-test"
   ]
  },
  {
   "cell_type": "code",
   "execution_count": 8,
   "metadata": {},
   "outputs": [
    {
     "name": "stdout",
     "output_type": "stream",
     "text": [
      "Average Claims by Gender:\n",
      "Gender\n",
      "Female    37.046055\n",
      "Male      32.620312\n",
      "Name: TotalClaims, dtype: float64\n",
      "T-Test Results:\n",
      "{'T-Statistic': -0.296353891400699, 'P-Value': 0.7669656471629474}\n",
      "Interpretation: Fail to reject the null hypothesis: No significant differences in risk between genders.\n"
     ]
    }
   ],
   "source": [
    "analysis = InsuranceDataUtils(df_subset)\n",
    "\n",
    "analysis.preprocess_and_calculate()\n",
    "analysis.perform_t_test_and_interpret()\n"
   ]
  },
  {
   "cell_type": "markdown",
   "metadata": {},
   "source": [
    "P-Value: The p-value of 0.77 is significantly higher than the common alpha level of 0.05.\n",
    "T-Statistic: The t-statistic is close to zero, suggesting a small difference between the two groups.\n",
    "Conclusion: Fail to reject the null hypothesis. The data does not show a statistically significant difference in the average claims between female and male policyholders.\n",
    "\n",
    "This means that based on the current data, the risk associated with claims does not significantly differ between genders."
   ]
  },
  {
   "cell_type": "markdown",
   "metadata": {},
   "source": [
    "#### Reference \n",
    "1. https://www.kdnuggets.com/hypothesis-testing-and-ab-testing#:~:text=A%2FB%20testing%20is%20a,determine%20which%20one%20performs%20better.\n",
    "2. https://www.abtasty.com/blog/formulate-ab-test-hypothesis/"
   ]
  }
 ],
 "metadata": {
  "kernelspec": {
   "display_name": "myenv",
   "language": "python",
   "name": "python3"
  },
  "language_info": {
   "codemirror_mode": {
    "name": "ipython",
    "version": 3
   },
   "file_extension": ".py",
   "mimetype": "text/x-python",
   "name": "python",
   "nbconvert_exporter": "python",
   "pygments_lexer": "ipython3",
   "version": "3.12.4"
  }
 },
 "nbformat": 4,
 "nbformat_minor": 2
}
